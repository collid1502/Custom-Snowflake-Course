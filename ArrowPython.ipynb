{
 "cells": [
  {
   "cell_type": "markdown",
   "metadata": {},
   "source": [
    "## Python Connector using Apache Arrow Format\n",
    "Fetching result sets using the Snowflake Python Connector now leverages the Arrow columnar format,\n",
    "This avoids the overhead previously associated with serializing and deserializing Snowflake data \n",
    "structures which are also in columnar format.\n",
    "\n",
    "With Snowflake Connector 2.2.0 (or higher), when you work with Pandas DataFrames, the performance is even better with the introduction of our new Python APIs, which download result sets directly into a Pandas DataFrame."
   ]
  },
  {
   "cell_type": "code",
   "execution_count": null,
   "metadata": {},
   "outputs": [],
   "source": [
    "import snowflake.connector\n",
    "import pandas"
   ]
  },
  {
   "cell_type": "code",
   "execution_count": null,
   "metadata": {},
   "outputs": [],
   "source": [
    "import getpass\n",
    "\n",
    "account = input('Snowflake Account Name: ')\n",
    "user =  input('Snowflake User Name: ')\n",
    "password = getpass.getpass('Snowflake Password: ')\n",
    "warehouse = user + \"_WH\";  # [login]_wh\n",
    "\n",
    "con = snowflake.connector.connect(\n",
    "  user=user,\n",
    "  password=password,\n",
    "  account=account\n",
    ")\n",
    "cur = con.cursor()"
   ]
  },
  {
   "cell_type": "markdown",
   "metadata": {},
   "source": [
    "## Python APIs for Pandas\n",
    "\n",
    "Fetching result sets leveraging the Arrow columnar format"
   ]
  },
  {
   "cell_type": "code",
   "execution_count": null,
   "metadata": {},
   "outputs": [],
   "source": [
    "# Test table is TPCH_SF1.LINEITEM which has 6M rows.\n",
    "# Its compressed size in Snowflake is 165 MB.\n",
    "# Fetch the result set from the cursor and deliver it as the Pandas DataFrame.\n",
    "sql = \"select * from SNOWFLAKE_SAMPLE_DATA.TPCH_SF1.LINEITEM\""
   ]
  },
  {
   "cell_type": "markdown",
   "metadata": {},
   "source": [
    "`fetch_pandas_all()` method fetches all the rows in a cursor and loads them into a Pandas DataFrame."
   ]
  },
  {
   "cell_type": "code",
   "execution_count": null,
   "metadata": {},
   "outputs": [],
   "source": [
    "%%time\n",
    "cur.execute(sql);\n",
    "\n",
    "# Fetch the result set from the cursor and deliver it as the Pandas DataFrame.\n",
    "df = cur.fetch_pandas_all()\n",
    "# Number of rows\n",
    "print(len(df.index))"
   ]
  },
  {
   "cell_type": "code",
   "execution_count": null,
   "metadata": {},
   "outputs": [],
   "source": [
    "# Test table is TPCH LINEITEM which has 60M rows.\n",
    "# Its compressed size in Snowflake is 1.6 GB.\n",
    "# Fetch the result set from the cursor and deliver it as the Pandas DataFrame.\n",
    "sql = \"select * from SNOWFLAKE_SAMPLE_DATA.TPCH_SF10.LINEITEM\""
   ]
  },
  {
   "cell_type": "markdown",
   "metadata": {},
   "source": [
    "`fetch_pandas_batches` This method fetches a subset of the rows in a cursor and delivers them to a Pandas DataFrame.\n",
    "\n",
    "Depending upon the number of rows in the result set, as well as the number of rows specified in the method call, the method might need to be called more than once, or it might return all rows in a single batch if they all fit."
   ]
  },
  {
   "cell_type": "code",
   "execution_count": null,
   "metadata": {},
   "outputs": [],
   "source": [
    "%%time\n",
    "cur.execute(sql);\n",
    "\n",
    "# Fetch the result set from the cursor and deliver it as the Pandas DataFrame.\n",
    "number_of_rows = 0\n",
    "for df in cur.fetch_pandas_batches():\n",
    "    index = df.index\n",
    "    number_of_rows += len(index)\n",
    "print(number_of_rows)"
   ]
  },
  {
   "cell_type": "code",
   "execution_count": null,
   "metadata": {},
   "outputs": [],
   "source": []
  }
 ],
 "metadata": {
  "kernelspec": {
   "display_name": "Python 3",
   "language": "python",
   "name": "python3"
  },
  "language_info": {
   "codemirror_mode": {
    "name": "ipython",
    "version": 3
   },
   "file_extension": ".py",
   "mimetype": "text/x-python",
   "name": "python",
   "nbconvert_exporter": "python",
   "pygments_lexer": "ipython3",
   "version": "3.7.6"
  }
 },
 "nbformat": 4,
 "nbformat_minor": 4
}
