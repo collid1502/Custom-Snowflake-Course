{
 "cells": [
  {
   "cell_type": "code",
   "execution_count": null,
   "metadata": {},
   "outputs": [],
   "source": [
    "# part1\n",
    "from pyspark import SparkConf,SparkContext\n",
    "from pyspark.sql import SQLContext\n",
    "from pyspark.sql.types import*\n",
    "from pyspark.sql.functions import*\n",
    "from pyspark import SparkConf,SparkContext"
   ]
  },
  {
   "cell_type": "code",
   "execution_count": null,
   "metadata": {},
   "outputs": [],
   "source": [
    "#sc.stop()\n",
    "sc = SparkContext(\"local\", \"Demo App\")\n",
    "spark = SQLContext(sc)\n",
    "spark_conf = SparkConf().setMaster('local').setAppName('DEMO')\n",
    "spark._jvm.net.snowflake.spark.snowflake.SnowflakeConnectorUtils.enablePushdownSession(spark._jvm.org.apache.spark.sql.SparkSession.builder().getOrCreate())\n",
    "sc._jvm.net.snowflake.spark.snowflake.SnowflakeConnectorUtils.enablePushdownSession(sc._jvm.org.apache.spark.sql.SparkSession.builder().getOrCreate())\n"
   ]
  },
  {
   "cell_type": "code",
   "execution_count": null,
   "metadata": {},
   "outputs": [],
   "source": [
    "import getpass\n",
    "\n",
    "# Enter the values of account, user, password, warehouse and role to match your environment\n",
    "ACCOUNT = input('Snowflake Account Name: ')\n",
    "USER =  input('Snowflake User Name: ')\n",
    "PASSWORD = getpass.getpass('Snowflake Password: ')\n",
    "WAREHOUSE = input('Snowflake Warehouse Name: ')\n",
    "ROLE = input('Snowflake Role Name: ')\n",
    "\n",
    "sfOptions={'sfURL': ACCOUNT+'.snowflakecomputing.com',\n",
    "           'sfUser':USER,\n",
    "           'sfPassword': PASSWORD,\n",
    "           'sfDatabase':'SNOWFLAKE_SAMPLE_DATA',\n",
    "           'sfSchema':'TPCH_SF1',\n",
    "           'sfRole':ROLE,\n",
    "           'sfWarehouse': WAREHOUSE}\n",
    "\n",
    "sfSource='net.snowflake.spark.snowflake'"
   ]
  },
  {
   "cell_type": "code",
   "execution_count": null,
   "metadata": {},
   "outputs": [],
   "source": [
    "df_nation=spark.read.format(sfSource) \\\n",
    "    .options(**sfOptions) \\\n",
    "    .option(\"dbtable\",\"nation\") \\\n",
    "    .load()\n",
    "\n",
    "df_region=spark.read.format(sfSource) \\\n",
    "    .options(**sfOptions) \\\n",
    "    .option(\"dbtable\",\"region\") \\\n",
    "    .load()\n",
    "\n",
    "df_cust=spark.read.format(sfSource) \\\n",
    "    .options(**sfOptions) \\\n",
    "    .option(\"dbtable\",\"customer\") \\\n",
    "    .load()\n"
   ]
  },
  {
   "cell_type": "code",
   "execution_count": null,
   "metadata": {},
   "outputs": [],
   "source": [
    "df_loc = df_nation.join(df_region, df_nation['N_REGIONKEY'] == df_region['R_REGIONKEY']) \n"
   ]
  },
  {
   "cell_type": "code",
   "execution_count": null,
   "metadata": {},
   "outputs": [],
   "source": [
    "df_cl = df_loc.join(df_cust, df_loc['N_NATIONKEY'] == df_cust['C_NATIONKEY']) \\\n",
    "         .filter(col('R_NAME') == 'AFRICA') \\\n",
    "         .select('C_MKTSEGMENT') \\\n",
    "         .groupBy('C_MKTSEGMENT').count()\n"
   ]
  },
  {
   "cell_type": "code",
   "execution_count": null,
   "metadata": {},
   "outputs": [],
   "source": [
    "%%time\n",
    "df_cl.show()"
   ]
  },
  {
   "cell_type": "code",
   "execution_count": null,
   "metadata": {},
   "outputs": [],
   "source": [
    "df_cl.printSchema()"
   ]
  },
  {
   "cell_type": "code",
   "execution_count": null,
   "metadata": {},
   "outputs": [],
   "source": [
    "\n",
    "df_cl_single = df_loc.join(df_cust, df_loc['N_NATIONKEY'] == df_cust['C_NATIONKEY']) \\\n",
    "         .filter(df_cust['C_CUSTKEY'] == '123456') \\\n",
    "         .select('C_MKTSEGMENT') \\\n",
    "         .groupBy('C_MKTSEGMENT').count()\n"
   ]
  },
  {
   "cell_type": "code",
   "execution_count": null,
   "metadata": {},
   "outputs": [],
   "source": [
    "%%time\n",
    "df_cl_single.show()"
   ]
  },
  {
   "cell_type": "code",
   "execution_count": null,
   "metadata": {},
   "outputs": [],
   "source": []
  }
 ],
 "metadata": {
  "kernelspec": {
   "display_name": "Python 3",
   "language": "python",
   "name": "python3"
  },
  "language_info": {
   "codemirror_mode": {
    "name": "ipython",
    "version": 3
   },
   "file_extension": ".py",
   "mimetype": "text/x-python",
   "name": "python",
   "nbconvert_exporter": "python",
   "pygments_lexer": "ipython3",
   "version": "3.7.6"
  }
 },
 "nbformat": 4,
 "nbformat_minor": 4
}
