{
 "cells": [
  {
   "cell_type": "code",
   "execution_count": null,
   "metadata": {},
   "outputs": [],
   "source": [
    "# Import the necessary modules\n",
    "import pyodbc\n",
    "import pandas as pd"
   ]
  },
  {
   "cell_type": "code",
   "execution_count": null,
   "metadata": {},
   "outputs": [],
   "source": [
    "import getpass\n",
    "\n",
    "# Enter the values of account, user, password, warehouse and role to match your environment\n",
    "ACCOUNT = input('Snowflake Account Name: ')\n",
    "USER =  input('Snowflake User Name: ')\n",
    "PASSWORD = getpass.getpass('Snowflake Password: ')\n",
    "WAREHOUSE = input('Snowflake Warehouse Name: ')\n",
    "ROLE = input('Snowflake Role Name: ')\n",
    "\n",
    "# Define the connection and specify a query to run\n",
    "cn_str = f\"\"\"Driver={{SnowflakeDSIIDriver}};\n",
    "    server={ACCOUNT}.snowflakecomputing.com;\n",
    "    database=SNOWFLAKE_SAMPLE_DATA;\n",
    "    warehouse={WAREHOUSE};\n",
    "    UID={USER};\n",
    "    PWD={PASSWORD}\"\"\"\n",
    "\n",
    "cn = pyodbc.connect(cn_str)\n",
    "cn.setencoding('utf-8')\n",
    "\n",
    "sql = \"select * from SNOWFLAKE_SAMPLE_DATA.TPCH_SF1.CUSTOMER limit 10000\""
   ]
  },
  {
   "cell_type": "code",
   "execution_count": null,
   "metadata": {},
   "outputs": [],
   "source": [
    "# Run the SQL and store the results in the res object\n",
    "#%%time\n",
    "res = cn.execute(sql).fetchall()"
   ]
  },
  {
   "cell_type": "code",
   "execution_count": null,
   "metadata": {},
   "outputs": [],
   "source": [
    "# Run the SQL And store the results in the df object\n",
    "#%%time\n",
    "df = pd.read_sql(sql, cn)"
   ]
  },
  {
   "cell_type": "code",
   "execution_count": null,
   "metadata": {},
   "outputs": [],
   "source": [
    "df.info()"
   ]
  },
  {
   "cell_type": "code",
   "execution_count": null,
   "metadata": {},
   "outputs": [],
   "source": [
    "pd.isnull(df).any()"
   ]
  },
  {
   "cell_type": "code",
   "execution_count": null,
   "metadata": {},
   "outputs": [],
   "source": [
    "df.describe()"
   ]
  },
  {
   "cell_type": "code",
   "execution_count": null,
   "metadata": {},
   "outputs": [],
   "source": []
  }
 ],
 "metadata": {
  "kernelspec": {
   "display_name": "Python 3",
   "language": "python",
   "name": "python3"
  },
  "language_info": {
   "codemirror_mode": {
    "name": "ipython",
    "version": 3
   },
   "file_extension": ".py",
   "mimetype": "text/x-python",
   "name": "python",
   "nbconvert_exporter": "python",
   "pygments_lexer": "ipython3",
   "version": "3.7.6"
  }
 },
 "nbformat": 4,
 "nbformat_minor": 4
}
