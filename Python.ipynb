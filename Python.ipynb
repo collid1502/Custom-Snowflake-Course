{
 "cells": [
  {
   "cell_type": "code",
   "execution_count": null,
   "metadata": {},
   "outputs": [],
   "source": [
    "# Import the various modules required to make a simple Snowflake connection from Python\n",
    "import snowflake.connector\n",
    "from snowflake.connector.converter_null import SnowflakeNoConverterToPython\n",
    "import pandas as pd"
   ]
  },
  {
   "cell_type": "code",
   "execution_count": null,
   "metadata": {},
   "outputs": [],
   "source": [
    "import getpass\n",
    "\n",
    "ACCOUNT = input('Snowflake Account Name: ')\n",
    "USER =  input('Snowflake User Name: ')\n",
    "PASSWORD = getpass.getpass('Snowflake Password: ')\n",
    "WAREHOUSE = input('Snowflake Warehouse Name: ')\n",
    "ROLE = input('Snowflake Role Name: ')\n",
    "# Modify this cell to include information about your demo account\n",
    "\n",
    "con = snowflake.connector.connect(\n",
    "  user=USER,\n",
    "  password=PASSWORD,\n",
    "  account=ACCOUNT\n",
    "    ,converter_class=SnowflakeNoConverterToPython\n",
    ")"
   ]
  },
  {
   "cell_type": "code",
   "execution_count": null,
   "metadata": {},
   "outputs": [],
   "source": [
    "# Create a variable called sql and specify a query that it will store\n",
    "sql = \"select * from SNOWFLAKE_SAMPLE_DATA.TPCH_SF1.CUSTOMER limit 10000\""
   ]
  },
  {
   "cell_type": "code",
   "execution_count": null,
   "metadata": {},
   "outputs": [],
   "source": [
    "# Specify the virtual warehouse and role we want to use\n",
    "con.cursor().execute(\"USE WAREHOUSE \"+ WAREHOUSE)\n",
    "con.cursor().execute(\"USE ROLE \"+ ROLE)"
   ]
  },
  {
   "cell_type": "code",
   "execution_count": null,
   "metadata": {},
   "outputs": [],
   "source": [
    "# Execute the query using the Python connector\n",
    "#%%time\n",
    "res = con.cursor().execute(sql).fetchall()\n"
   ]
  },
  {
   "cell_type": "code",
   "execution_count": null,
   "metadata": {},
   "outputs": [],
   "source": [
    "# Run that same query, but this time use the read_sql method\n",
    "# in the Pandas data frame object\n",
    "#%%time\n",
    "df = pd.read_sql(sql, con)\n",
    "df.info()\n"
   ]
  },
  {
   "cell_type": "code",
   "execution_count": null,
   "metadata": {},
   "outputs": [],
   "source": [
    "# Get a count of distinct customers by market segment\n",
    "df.groupby('C_MKTSEGMENT')[['C_CUSTKEY']].count()"
   ]
  },
  {
   "cell_type": "code",
   "execution_count": null,
   "metadata": {},
   "outputs": [],
   "source": [
    "# Check to see if any of the columns have null values\n",
    "pd.isnull(df).any()"
   ]
  },
  {
   "cell_type": "code",
   "execution_count": null,
   "metadata": {},
   "outputs": [],
   "source": [
    "type(res)"
   ]
  },
  {
   "cell_type": "code",
   "execution_count": null,
   "metadata": {},
   "outputs": [],
   "source": [
    "print (res[0])"
   ]
  },
  {
   "cell_type": "code",
   "execution_count": null,
   "metadata": {},
   "outputs": [],
   "source": [
    "unique_cust_key = []\n",
    "z = []\n",
    "for x in res:\n",
    "    z.append((x[0],x[6]))\n",
    "\n",
    "for x in z:\n",
    "    if x not in unique_cust_key:\n",
    "        unique_cust_key.append(x)\n",
    "    \n",
    "# initailize a null list \n",
    "unique_list = []\n",
    "\n",
    "# traverse for all elements \n",
    "for x in unique_cust_key:\n",
    "    # check if exists in unique_list or not \n",
    "    if x[1] not in unique_list:\n",
    "        unique_list.append(x[1])\n",
    "       \n",
    "def countX(lst, x):\n",
    "    count = 0\n",
    "    for y in lst:\n",
    "        if (y[1] == x):\n",
    "            count = count + 1\n",
    "    return count\n",
    "\n",
    "for a in unique_list:\n",
    "    print('{} has occured {} times'.format(a, countX(unique_cust_key, a))) \n",
    "    \n"
   ]
  }
 ],
 "metadata": {
  "kernelspec": {
   "display_name": "Python 3",
   "language": "python",
   "name": "python3"
  },
  "language_info": {
   "codemirror_mode": {
    "name": "ipython",
    "version": 3
   },
   "file_extension": ".py",
   "mimetype": "text/x-python",
   "name": "python",
   "nbconvert_exporter": "python",
   "pygments_lexer": "ipython3",
   "version": "3.7.6"
  }
 },
 "nbformat": 4,
 "nbformat_minor": 4
}
