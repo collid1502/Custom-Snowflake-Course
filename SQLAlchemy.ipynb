{
 "cells": [
  {
   "cell_type": "code",
   "execution_count": null,
   "metadata": {},
   "outputs": [],
   "source": [
    "# Import the appropriate packages & modules\n",
    "import snowflake.connector\n",
    "from snowflake.connector.converter_null import SnowflakeNoConverterToPython\n",
    "import pandas as pd \n",
    "from sqlalchemy import create_engine\n",
    "from snowflake.sqlalchemy import URL\n",
    "import sqlalchemy as sa"
   ]
  },
  {
   "cell_type": "code",
   "execution_count": null,
   "metadata": {},
   "outputs": [],
   "source": [
    "import getpass\n",
    "\n",
    "# Enter the values of account, user, password, warehouse and role to match your environment\n",
    "ACCOUNT = input('Snowflake Account Name: ')\n",
    "USER =  input('Snowflake User Name: ')\n",
    "PASSWORD = getpass.getpass('Snowflake Password: ')\n",
    "WAREHOUSE = input('Snowflake Warehouse Name: ')\n",
    "ROLE = input('Snowflake Role Name: ')\n",
    "\n",
    "engine = create_engine(URL(\n",
    "    account = ACCOUNT,\n",
    "    user = USER,\n",
    "    password = PASSWORD,\n",
    "    database = 'SNOWFLAKE_SAMPLE_DATA',\n",
    "    schema = 'TPCH_SF1',\n",
    "    warehouse = WAREHOUSE,\n",
    "    role= ROLE,\n",
    "))\n",
    "\n",
    "sql = \"select * from SNOWFLAKE_SAMPLE_DATA.TPCH_SF1.CUSTOMER limit 1000\""
   ]
  },
  {
   "cell_type": "code",
   "execution_count": null,
   "metadata": {},
   "outputs": [],
   "source": [
    "# Use Pandas dataframe method read_sql_query to execute SQL in SQL Alchemy \n",
    "#%%time\n",
    "df = pd.read_sql_query(sql, engine)"
   ]
  },
  {
   "cell_type": "code",
   "execution_count": null,
   "metadata": {},
   "outputs": [],
   "source": [
    "df.info()"
   ]
  },
  {
   "cell_type": "code",
   "execution_count": null,
   "metadata": {},
   "outputs": [],
   "source": [
    "pd.isnull(df).any()"
   ]
  },
  {
   "cell_type": "code",
   "execution_count": null,
   "metadata": {},
   "outputs": [],
   "source": [
    "df.groupby('c_mktsegment')[['c_custkey']].count()"
   ]
  },
  {
   "cell_type": "code",
   "execution_count": null,
   "metadata": {},
   "outputs": [],
   "source": []
  }
 ],
 "metadata": {
  "kernelspec": {
   "display_name": "Python 3",
   "language": "python",
   "name": "python3"
  },
  "language_info": {
   "codemirror_mode": {
    "name": "ipython",
    "version": 3
   },
   "file_extension": ".py",
   "mimetype": "text/x-python",
   "name": "python",
   "nbconvert_exporter": "python",
   "pygments_lexer": "ipython3",
   "version": "3.7.6"
  }
 },
 "nbformat": 4,
 "nbformat_minor": 4
}
